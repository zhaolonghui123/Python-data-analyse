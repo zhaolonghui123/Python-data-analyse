{
 "cells": [
  {
   "cell_type": "code",
   "execution_count": 1,
   "metadata": {
    "collapsed": true
   },
   "outputs": [],
   "source": [
    "import numpy as np\n",
    "import pandas as pd \n",
    "import matplotlib.pyplot as plt\n",
    "plt.rcParams['font.sans-serif']=['SimHei'] #用来正常显示中文标签\n",
    "import sqlite3\n",
    "\n",
    "conn = sqlite3.connect('db.sqlite3')\n",
    "sql = \"select * from sport_detail\"\n",
    "df = pd.read_sql(sql,conn)"
   ]
  },
  {
   "cell_type": "code",
   "execution_count": 28,
   "metadata": {},
   "outputs": [
    {
     "data": {
      "text/html": [
       "<div>\n",
       "<style scoped>\n",
       "    .dataframe tbody tr th:only-of-type {\n",
       "        vertical-align: middle;\n",
       "    }\n",
       "\n",
       "    .dataframe tbody tr th {\n",
       "        vertical-align: top;\n",
       "    }\n",
       "\n",
       "    .dataframe thead th {\n",
       "        text-align: right;\n",
       "    }\n",
       "</style>\n",
       "<table border=\"1\" class=\"dataframe\">\n",
       "  <thead>\n",
       "    <tr style=\"text-align: right;\">\n",
       "      <th></th>\n",
       "      <th>id</th>\n",
       "      <th>student_ID</th>\n",
       "      <th>campus</th>\n",
       "      <th>entryname</th>\n",
       "      <th>appointment_time</th>\n",
       "      <th>appointment_start</th>\n",
       "      <th>appointment_end</th>\n",
       "      <th>Sports_venues</th>\n",
       "      <th>is_delete</th>\n",
       "      <th>Creation_time</th>\n",
       "      <th>appointmentID_id</th>\n",
       "      <th>delete_true</th>\n",
       "    </tr>\n",
       "  </thead>\n",
       "  <tbody>\n",
       "    <tr>\n",
       "      <th>0</th>\n",
       "      <td>45</td>\n",
       "      <td>3960</td>\n",
       "      <td>天赐庄校区</td>\n",
       "      <td>羽毛球</td>\n",
       "      <td>2020-05-08</td>\n",
       "      <td>2020-05-08 15:30:00</td>\n",
       "      <td>2020-05-08 17:30:00</td>\n",
       "      <td>东区综合馆</td>\n",
       "      <td>0</td>\n",
       "      <td>2020-05-08 08:23:47.383241</td>\n",
       "      <td>228</td>\n",
       "      <td>0</td>\n",
       "    </tr>\n",
       "    <tr>\n",
       "      <th>1</th>\n",
       "      <td>46</td>\n",
       "      <td>82069</td>\n",
       "      <td>天赐庄校区</td>\n",
       "      <td>羽毛球</td>\n",
       "      <td>2020-05-08</td>\n",
       "      <td>2020-05-08 19:00:00</td>\n",
       "      <td>2020-05-08 21:00:00</td>\n",
       "      <td>东区综合馆</td>\n",
       "      <td>1</td>\n",
       "      <td>2020-05-08 08:27:30.589128</td>\n",
       "      <td>231</td>\n",
       "      <td>0</td>\n",
       "    </tr>\n",
       "    <tr>\n",
       "      <th>2</th>\n",
       "      <td>47</td>\n",
       "      <td>82069</td>\n",
       "      <td>天赐庄校区</td>\n",
       "      <td>乒乓球</td>\n",
       "      <td>2020-05-08</td>\n",
       "      <td>2020-05-08 19:00:00</td>\n",
       "      <td>2020-05-08 21:00:00</td>\n",
       "      <td>本部公体楼乒乓房</td>\n",
       "      <td>1</td>\n",
       "      <td>2020-05-08 08:30:18.922353</td>\n",
       "      <td>47</td>\n",
       "      <td>0</td>\n",
       "    </tr>\n",
       "    <tr>\n",
       "      <th>3</th>\n",
       "      <td>48</td>\n",
       "      <td>3960</td>\n",
       "      <td>天赐庄校区</td>\n",
       "      <td>羽毛球</td>\n",
       "      <td>2020-05-09</td>\n",
       "      <td>2020-05-09 15:30:00</td>\n",
       "      <td>2020-05-09 17:30:00</td>\n",
       "      <td>东区综合馆</td>\n",
       "      <td>0</td>\n",
       "      <td>2020-05-08 08:29:45.430441</td>\n",
       "      <td>237</td>\n",
       "      <td>0</td>\n",
       "    </tr>\n",
       "    <tr>\n",
       "      <th>4</th>\n",
       "      <td>49</td>\n",
       "      <td>82069</td>\n",
       "      <td>天赐庄校区</td>\n",
       "      <td>羽毛球</td>\n",
       "      <td>2020-05-08</td>\n",
       "      <td>2020-05-08 19:00:00</td>\n",
       "      <td>2020-05-08 21:00:00</td>\n",
       "      <td>东区综合馆</td>\n",
       "      <td>1</td>\n",
       "      <td>2020-05-08 08:39:19.240116</td>\n",
       "      <td>231</td>\n",
       "      <td>0</td>\n",
       "    </tr>\n",
       "  </tbody>\n",
       "</table>\n",
       "</div>"
      ],
      "text/plain": [
       "   id student_ID campus entryname appointment_time    appointment_start  \\\n",
       "0  45       3960  天赐庄校区       羽毛球       2020-05-08  2020-05-08 15:30:00   \n",
       "1  46      82069  天赐庄校区       羽毛球       2020-05-08  2020-05-08 19:00:00   \n",
       "2  47      82069  天赐庄校区       乒乓球       2020-05-08  2020-05-08 19:00:00   \n",
       "3  48       3960  天赐庄校区       羽毛球       2020-05-09  2020-05-09 15:30:00   \n",
       "4  49      82069  天赐庄校区       羽毛球       2020-05-08  2020-05-08 19:00:00   \n",
       "\n",
       "       appointment_end Sports_venues  is_delete               Creation_time  \\\n",
       "0  2020-05-08 17:30:00         东区综合馆          0  2020-05-08 08:23:47.383241   \n",
       "1  2020-05-08 21:00:00         东区综合馆          1  2020-05-08 08:27:30.589128   \n",
       "2  2020-05-08 21:00:00      本部公体楼乒乓房          1  2020-05-08 08:30:18.922353   \n",
       "3  2020-05-09 17:30:00         东区综合馆          0  2020-05-08 08:29:45.430441   \n",
       "4  2020-05-08 21:00:00         东区综合馆          1  2020-05-08 08:39:19.240116   \n",
       "\n",
       "   appointmentID_id  delete_true  \n",
       "0               228            0  \n",
       "1               231            0  \n",
       "2                47            0  \n",
       "3               237            0  \n",
       "4               231            0  "
      ]
     },
     "execution_count": 28,
     "metadata": {},
     "output_type": "execute_result"
    }
   ],
   "source": [
    "df.head(5)"
   ]
  },
  {
   "cell_type": "markdown",
   "metadata": {},
   "source": [
    "总列表的行列"
   ]
  },
  {
   "cell_type": "code",
   "execution_count": 6,
   "metadata": {
    "scrolled": true
   },
   "outputs": [
    {
     "data": {
      "text/plain": [
       "(6778, 12)"
      ]
     },
     "execution_count": 6,
     "metadata": {},
     "output_type": "execute_result"
    }
   ],
   "source": [
    "df.shape"
   ]
  },
  {
   "cell_type": "code",
   "execution_count": 47,
   "metadata": {
    "collapsed": true
   },
   "outputs": [],
   "source": [
    "df1 = df.drop_duplicates('student_ID')#无重复表"
   ]
  },
  {
   "cell_type": "code",
   "execution_count": 50,
   "metadata": {},
   "outputs": [
    {
     "data": {
      "text/plain": [
       "1635"
      ]
     },
     "execution_count": 50,
     "metadata": {},
     "output_type": "execute_result"
    }
   ],
   "source": [
    "df1.shape[0]"
   ]
  },
  {
   "cell_type": "markdown",
   "metadata": {},
   "source": [
    "师生人数对比"
   ]
  },
  {
   "cell_type": "code",
   "execution_count": 52,
   "metadata": {},
   "outputs": [
    {
     "name": "stdout",
     "output_type": "stream",
     "text": [
      "<class 'pandas.core.frame.DataFrame'>\n",
      "RangeIndex: 6778 entries, 0 to 6777\n",
      "Data columns (total 12 columns):\n",
      "id                   6778 non-null int64\n",
      "student_ID           6778 non-null object\n",
      "campus               6778 non-null object\n",
      "entryname            6778 non-null object\n",
      "appointment_time     6778 non-null object\n",
      "appointment_start    6778 non-null object\n",
      "appointment_end      6778 non-null object\n",
      "Sports_venues        6778 non-null object\n",
      "is_delete            6778 non-null int64\n",
      "Creation_time        6778 non-null object\n",
      "appointmentID_id     6778 non-null int64\n",
      "delete_true          6778 non-null int64\n",
      "dtypes: int64(4), object(8)\n",
      "memory usage: 423.7+ KB\n"
     ]
    }
   ],
   "source": [
    "df.info()"
   ]
  },
  {
   "cell_type": "code",
   "execution_count": 62,
   "metadata": {
    "collapsed": true
   },
   "outputs": [],
   "source": [
    "df老师人数 = df1[df1[\"student_ID\"].str.len()<=6]"
   ]
  },
  {
   "cell_type": "code",
   "execution_count": 63,
   "metadata": {
    "scrolled": true
   },
   "outputs": [
    {
     "data": {
      "text/plain": [
       "175"
      ]
     },
     "execution_count": 63,
     "metadata": {},
     "output_type": "execute_result"
    }
   ],
   "source": [
    "df老师人数.shape[0]"
   ]
  },
  {
   "cell_type": "code",
   "execution_count": 64,
   "metadata": {
    "collapsed": true
   },
   "outputs": [],
   "source": [
    "df学生人数 = df1[df1[\"student_ID\"].str.len()>6]"
   ]
  },
  {
   "cell_type": "code",
   "execution_count": 65,
   "metadata": {},
   "outputs": [
    {
     "data": {
      "text/plain": [
       "1460"
      ]
     },
     "execution_count": 65,
     "metadata": {},
     "output_type": "execute_result"
    }
   ],
   "source": [
    "df学生人数.shape[0]"
   ]
  },
  {
   "cell_type": "code",
   "execution_count": 76,
   "metadata": {},
   "outputs": [
    {
     "data": {
      "image/png": "[encoded data removed]",
      "text/plain": [
       "<matplotlib.figure.Figure at 0x1004d6b0>"
      ]
     },
     "metadata": {
      "needs_background": "light"
     },
     "output_type": "display_data"
    }
   ],
   "source": [
    "price = [175,1460]\n",
    "\n",
    "plt.barh(range(2),price,align = 'center', color = 'blue', alpha = .7)\n",
    "plt.xlabel('人数')\n",
    "plt.title('师生人数')\n",
    "plt.yticks(range(2),['teacher','student'])\n",
    "plt.xlim([0,2000])\n",
    "\n",
    "for x,y in enumerate(price):\n",
    "    plt.text(y+0.1, x, '%s' %y, va = 'center')"
   ]
  },
  {
   "cell_type": "markdown",
   "metadata": {},
   "source": [
    "各校区预约人数统计"
   ]
  },
  {
   "cell_type": "code",
   "execution_count": 22,
   "metadata": {
    "collapsed": true
   },
   "outputs": [],
   "source": [
    "df天赐庄 = df[df['campus'].str.contains('天赐庄校区')]"
   ]
  },
  {
   "cell_type": "code",
   "execution_count": 23,
   "metadata": {},
   "outputs": [
    {
     "data": {
      "text/plain": [
       "2152"
      ]
     },
     "execution_count": 23,
     "metadata": {},
     "output_type": "execute_result"
    }
   ],
   "source": [
    "df天赐庄.shape[0]"
   ]
  },
  {
   "cell_type": "code",
   "execution_count": 24,
   "metadata": {
    "collapsed": true
   },
   "outputs": [],
   "source": [
    "df独墅湖 = df[df['campus'].str.contains('独墅湖校区')]"
   ]
  },
  {
   "cell_type": "code",
   "execution_count": 25,
   "metadata": {},
   "outputs": [
    {
     "data": {
      "text/plain": [
       "4609"
      ]
     },
     "execution_count": 25,
     "metadata": {},
     "output_type": "execute_result"
    }
   ],
   "source": [
    "df独墅湖.shape[0]"
   ]
  },
  {
   "cell_type": "code",
   "execution_count": 26,
   "metadata": {
    "collapsed": true
   },
   "outputs": [],
   "source": [
    "df阳澄湖 = df[df['campus'].str.contains('阳澄湖校区')]"
   ]
  },
  {
   "cell_type": "code",
   "execution_count": 27,
   "metadata": {},
   "outputs": [
    {
     "data": {
      "text/plain": [
       "16"
      ]
     },
     "execution_count": 27,
     "metadata": {},
     "output_type": "execute_result"
    }
   ],
   "source": [
    "df阳澄湖.shape[0]"
   ]
  },
  {
   "cell_type": "code",
   "execution_count": 77,
   "metadata": {},
   "outputs": [
    {
     "data": {
      "image/png": "[encoded data removed]",
      "text/plain": [
       "<matplotlib.figure.Figure at 0x10205fd0>"
      ]
     },
     "metadata": {
      "needs_background": "light"
     },
     "output_type": "display_data"
    }
   ],
   "source": [
    "price = [2152,4609,16]\n",
    "\n",
    "plt.barh(range(3),price,align = 'center', color = 'yellow', alpha = .7)\n",
    "plt.xlabel('次数')\n",
    "plt.title('各校区预约人数统计')\n",
    "plt.yticks(range(3),['天赐庄','独墅湖','阳澄湖'])\n",
    "plt.xlim([0,5000])\n",
    "\n",
    "for x,y in enumerate(price):\n",
    "    plt.text(y+0.1, x, '%s' %y, va = 'center')"
   ]
  },
  {
   "cell_type": "markdown",
   "metadata": {},
   "source": [
    "运动受欢迎类型排序"
   ]
  },
  {
   "cell_type": "code",
   "execution_count": 43,
   "metadata": {},
   "outputs": [
    {
     "data": {
      "text/plain": [
       "7"
      ]
     },
     "execution_count": 43,
     "metadata": {},
     "output_type": "execute_result"
    }
   ],
   "source": [
    "df['entryname'].nunique()"
   ]
  },
  {
   "cell_type": "code",
   "execution_count": 42,
   "metadata": {},
   "outputs": [
    {
     "data": {
      "text/plain": [
       "羽毛球                            3288\n",
       "篮球                             2346\n",
       "乒乓球                             431\n",
       "足球                              413\n",
       "网球                              249\n",
       "排球                               50\n",
       "%E7%BE%BD%E6%AF%9B%E7%90%83       1\n",
       "Name: entryname, dtype: int64"
      ]
     },
     "execution_count": 42,
     "metadata": {},
     "output_type": "execute_result"
    }
   ],
   "source": [
    "df['entryname'].value_counts().head(7)"
   ]
  },
  {
   "cell_type": "code",
   "execution_count": null,
   "metadata": {
    "collapsed": true
   },
   "outputs": [],
   "source": [
    "price = [3288,2346,431,413,249,50]\n",
    "\n",
    "plt.barh(range(6),price,align = 'center', color = 'green', alpha = .7)\n",
    "plt.xlabel('次数')\n",
    "plt.title('运动类型')\n",
    "plt.yticks(range(6),['羽毛球 ','篮球','乒乓球'])\n",
    "plt.xlim([0,5000])\n",
    "\n",
    "for x,y in enumerate(price):\n",
    "    plt.text(y+0.1, x, '%s' %y, va = 'center')"
   ]
  },
  {
   "cell_type": "markdown",
   "metadata": {},
   "source": [
    "老师最喜欢项目"
   ]
  },
  {
   "cell_type": "code",
   "execution_count": 66,
   "metadata": {
    "collapsed": true
   },
   "outputs": [],
   "source": [
    "df老师喜欢 = df[df[\"student_ID\"].str.len()<=6]"
   ]
  },
  {
   "cell_type": "code",
   "execution_count": 67,
   "metadata": {},
   "outputs": [
    {
     "data": {
      "text/plain": [
       "羽毛球    327\n",
       "网球      92\n",
       "乒乓球     51\n",
       "足球      50\n",
       "篮球      37\n",
       "Name: entryname, dtype: int64"
      ]
     },
     "execution_count": 67,
     "metadata": {},
     "output_type": "execute_result"
    }
   ],
   "source": [
    "df老师喜欢['entryname'].value_counts().head(7)"
   ]
  },
  {
   "cell_type": "markdown",
   "metadata": {},
   "source": [
    "学生最喜欢项目"
   ]
  },
  {
   "cell_type": "code",
   "execution_count": 68,
   "metadata": {
    "collapsed": true
   },
   "outputs": [],
   "source": [
    "df学生喜欢 = df[df[\"student_ID\"].str.len()>6]"
   ]
  },
  {
   "cell_type": "code",
   "execution_count": 78,
   "metadata": {},
   "outputs": [
    {
     "data": {
      "text/plain": [
       "羽毛球    2961\n",
       "篮球     2309\n",
       "乒乓球     380\n",
       "足球      363\n",
       "网球      157\n",
       "排球       50\n",
       "Name: entryname, dtype: int64"
      ]
     },
     "execution_count": 78,
     "metadata": {},
     "output_type": "execute_result"
    }
   ],
   "source": [
    "df学生喜欢['entryname'].value_counts().head(6)"
   ]
  },
  {
   "cell_type": "markdown",
   "metadata": {},
   "source": [
    "最受欢迎运动场馆"
   ]
  },
  {
   "cell_type": "code",
   "execution_count": 44,
   "metadata": {},
   "outputs": [
    {
     "data": {
      "text/plain": [
       "18"
      ]
     },
     "execution_count": 44,
     "metadata": {},
     "output_type": "execute_result"
    }
   ],
   "source": [
    "df['Sports_venues'].nunique()"
   ]
  },
  {
   "cell_type": "code",
   "execution_count": 45,
   "metadata": {},
   "outputs": [
    {
     "data": {
      "text/plain": [
       "公共体育楼         2261\n",
       "二期南侧篮球场       1452\n",
       "东校区锅炉房         714\n",
       "东区综合馆          684\n",
       "东区田径场西侧篮球场     476\n",
       "二期北侧篮球场        414\n",
       "二期足球场          302\n",
       "网球场            157\n",
       "东区游泳馆西侧足球场     105\n",
       "东区网球场           51\n",
       "Name: Sports_venues, dtype: int64"
      ]
     },
     "execution_count": 45,
     "metadata": {},
     "output_type": "execute_result"
    }
   ],
   "source": [
    "df['Sports_venues'].value_counts().head(10)"
   ]
  },
  {
   "cell_type": "markdown",
   "metadata": {},
   "source": [
    "10大运动大人"
   ]
  },
  {
   "cell_type": "code",
   "execution_count": 51,
   "metadata": {},
   "outputs": [
    {
     "data": {
      "text/plain": [
       "20994506056    37\n",
       "9903403039     35\n",
       "20994059009    32\n",
       "20975226040    31\n",
       "20974229055    30\n",
       "9709404994     30\n",
       "20994506059    30\n",
       "20984207049    28\n",
       "9794409070     28\n",
       "20974009092    28\n",
       "Name: student_ID, dtype: int64"
      ]
     },
     "execution_count": 51,
     "metadata": {},
     "output_type": "execute_result"
    }
   ],
   "source": [
    "df['student_ID'].value_counts().head(10)"
   ]
  },
  {
   "cell_type": "markdown",
   "metadata": {},
   "source": []
  }
 ],
 "metadata": {
  "kernelspec": {
   "display_name": "Python 3",
   "language": "python",
   "name": "python3"
  },
  "language_info": {
   "codemirror_mode": {
    "name": "ipython",
    "version": 3
   },
   "file_extension": ".py",
   "mimetype": "text/x-python",
   "name": "python",
   "nbconvert_exporter": "python",
   "pygments_lexer": "ipython3",
   "version": "3.7.1"
  },
  "toc": {
   "base_numbering": 1,
   "nav_menu": {},
   "number_sections": true,
   "sideBar": true,
   "skip_h1_title": false,
   "title_cell": "Table of Contents",
   "title_sidebar": "Contents",
   "toc_cell": false,
   "toc_position": {},
   "toc_section_display": true,
   "toc_window_display": false
  },
  "varInspector": {
   "cols": {
    "lenName": 16,
    "lenType": 16,
    "lenVar": 40
   },
   "kernels_config": {
    "python": {
     "delete_cmd_postfix": "",
     "delete_cmd_prefix": "del ",
     "library": "var_list.py",
     "varRefreshCmd": "print(var_dic_list())"
    },
    "r": {
     "delete_cmd_postfix": ") ",
     "delete_cmd_prefix": "rm(",
     "library": "var_list.r",
     "varRefreshCmd": "cat(var_dic_list()) "
    }
   },
   "types_to_exclude": [
    "module",
    "function",
    "builtin_function_or_method",
    "instance",
    "_Feature"
   ],
   "window_display": false
  }
 },
 "nbformat": 4,
 "nbformat_minor": 2
}
